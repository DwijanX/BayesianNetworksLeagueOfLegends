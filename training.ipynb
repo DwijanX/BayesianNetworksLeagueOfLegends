{
  "cells": [
    {
      "cell_type": "code",
      "execution_count": 1,
      "metadata": {
        "id": "bHYzoKJqHLUc"
      },
      "outputs": [],
      "source": [
        "import os\n",
        "os.environ['MKL_THREADING_LAYER'] = 'GNU'"
      ]
    },
    {
      "cell_type": "code",
      "execution_count": 2,
      "metadata": {
        "colab": {
          "base_uri": "https://localhost:8080/"
        },
        "id": "jzGZwWwfG3ot",
        "outputId": "f941e7eb-4b6d-4e8a-f5a2-57b6f271b652"
      },
      "outputs": [
        {
          "name": "stdout",
          "output_type": "stream",
          "text": [
            "Defaulting to user installation because normal site-packages is not writeable\n",
            "Requirement already satisfied: pymc3 in c:\\users\\nicol\\appdata\\roaming\\python\\python311\\site-packages (3.11.4)\n",
            "Requirement already satisfied: arviz>=0.11.0 in c:\\users\\nicol\\appdata\\roaming\\python\\python311\\site-packages (from pymc3) (0.15.1)\n",
            "Requirement already satisfied: cachetools>=4.2.1 in c:\\users\\nicol\\appdata\\roaming\\python\\python311\\site-packages (from pymc3) (5.3.0)\n",
            "Requirement already satisfied: dill in c:\\users\\nicol\\appdata\\roaming\\python\\python311\\site-packages (from pymc3) (0.3.6)\n",
            "Requirement already satisfied: fastprogress>=0.2.0 in c:\\users\\nicol\\appdata\\roaming\\python\\python311\\site-packages (from pymc3) (1.0.3)\n",
            "Requirement already satisfied: numpy>=1.15.0 in c:\\users\\nicol\\appdata\\roaming\\python\\python311\\site-packages (from pymc3) (1.24.3)\n",
            "Requirement already satisfied: pandas>=0.24.0 in c:\\users\\nicol\\appdata\\roaming\\python\\python311\\site-packages (from pymc3) (1.5.3)\n",
            "Requirement already satisfied: patsy>=0.5.1 in c:\\users\\nicol\\appdata\\roaming\\python\\python311\\site-packages (from pymc3) (0.5.3)\n",
            "Requirement already satisfied: scipy>=1.2.0 in c:\\users\\nicol\\appdata\\roaming\\python\\python311\\site-packages (from pymc3) (1.10.1)\n",
            "Requirement already satisfied: semver>=2.13.0 in c:\\users\\nicol\\appdata\\roaming\\python\\python311\\site-packages (from pymc3) (3.0.0)\n",
            "Requirement already satisfied: theano-pymc==1.1.2 in c:\\users\\nicol\\appdata\\roaming\\python\\python311\\site-packages (from pymc3) (1.1.2)\n",
            "Requirement already satisfied: typing-extensions>=3.7.4 in c:\\users\\nicol\\appdata\\roaming\\python\\python311\\site-packages (from pymc3) (4.5.0)\n",
            "Requirement already satisfied: filelock in c:\\users\\nicol\\appdata\\roaming\\python\\python311\\site-packages (from theano-pymc==1.1.2->pymc3) (3.12.0)\n",
            "Requirement already satisfied: setuptools>=60.0.0 in c:\\program files\\python311\\lib\\site-packages (from arviz>=0.11.0->pymc3) (65.5.0)\n",
            "Requirement already satisfied: matplotlib>=3.2 in c:\\users\\nicol\\appdata\\roaming\\python\\python311\\site-packages (from arviz>=0.11.0->pymc3) (3.7.1)\n",
            "Requirement already satisfied: packaging in c:\\users\\nicol\\appdata\\roaming\\python\\python311\\site-packages (from arviz>=0.11.0->pymc3) (23.0)\n",
            "Requirement already satisfied: xarray>=0.21.0 in c:\\users\\nicol\\appdata\\roaming\\python\\python311\\site-packages (from arviz>=0.11.0->pymc3) (2023.4.2)\n",
            "Requirement already satisfied: h5netcdf>=1.0.2 in c:\\users\\nicol\\appdata\\roaming\\python\\python311\\site-packages (from arviz>=0.11.0->pymc3) (1.1.0)\n",
            "Requirement already satisfied: xarray-einstats>=0.3 in c:\\users\\nicol\\appdata\\roaming\\python\\python311\\site-packages (from arviz>=0.11.0->pymc3) (0.5.1)\n",
            "Requirement already satisfied: python-dateutil>=2.8.1 in c:\\users\\nicol\\appdata\\roaming\\python\\python311\\site-packages (from pandas>=0.24.0->pymc3) (2.8.2)\n",
            "Requirement already satisfied: pytz>=2020.1 in c:\\users\\nicol\\appdata\\roaming\\python\\python311\\site-packages (from pandas>=0.24.0->pymc3) (2022.7.1)\n",
            "Requirement already satisfied: six in c:\\users\\nicol\\appdata\\roaming\\python\\python311\\site-packages (from patsy>=0.5.1->pymc3) (1.16.0)\n",
            "Requirement already satisfied: h5py in c:\\users\\nicol\\appdata\\roaming\\python\\python311\\site-packages (from h5netcdf>=1.0.2->arviz>=0.11.0->pymc3) (3.8.0)\n",
            "Requirement already satisfied: contourpy>=1.0.1 in c:\\users\\nicol\\appdata\\roaming\\python\\python311\\site-packages (from matplotlib>=3.2->arviz>=0.11.0->pymc3) (1.0.7)\n",
            "Requirement already satisfied: cycler>=0.10 in c:\\users\\nicol\\appdata\\roaming\\python\\python311\\site-packages (from matplotlib>=3.2->arviz>=0.11.0->pymc3) (0.11.0)\n",
            "Requirement already satisfied: fonttools>=4.22.0 in c:\\users\\nicol\\appdata\\roaming\\python\\python311\\site-packages (from matplotlib>=3.2->arviz>=0.11.0->pymc3) (4.39.0)\n",
            "Requirement already satisfied: kiwisolver>=1.0.1 in c:\\users\\nicol\\appdata\\roaming\\python\\python311\\site-packages (from matplotlib>=3.2->arviz>=0.11.0->pymc3) (1.4.4)\n",
            "Requirement already satisfied: pillow>=6.2.0 in c:\\users\\nicol\\appdata\\roaming\\python\\python311\\site-packages (from matplotlib>=3.2->arviz>=0.11.0->pymc3) (9.4.0)\n",
            "Requirement already satisfied: pyparsing>=2.3.1 in c:\\users\\nicol\\appdata\\roaming\\python\\python311\\site-packages (from matplotlib>=3.2->arviz>=0.11.0->pymc3) (3.0.9)\n"
          ]
        },
        {
          "name": "stderr",
          "output_type": "stream",
          "text": [
            "\n",
            "[notice] A new release of pip available: 22.3.1 -> 23.1\n",
            "[notice] To update, run: python.exe -m pip install --upgrade pip\n"
          ]
        }
      ],
      "source": [
        "!pip install pymc3"
      ]
    },
    {
      "cell_type": "code",
      "execution_count": 3,
      "metadata": {
        "id": "ij8jxAgAGvRH"
      },
      "outputs": [
        {
          "name": "stderr",
          "output_type": "stream",
          "text": [
            "WARNING (theano.configdefaults): g++ not available, if using conda: `conda install m2w64-toolchain`\n",
            "WARNING (theano.configdefaults): g++ not detected ! Theano will be unable to execute optimized C-implementations (for both CPU and GPU) and will default to Python implementations. Performance will be severely degraded. To remove this warning, set Theano flags cxx to an empty string.\n",
            "C:\\Users\\nicol\\AppData\\Roaming\\Python\\Python311\\site-packages\\theano\\scalar\\basic.py:2412: FutureWarning: In the future `np.bool` will be defined as the corresponding NumPy scalar.\n",
            "  self.ctor = getattr(np, o_type.dtype)\n"
          ]
        },
        {
          "ename": "AttributeError",
          "evalue": "module 'numpy' has no attribute 'bool'.\n`np.bool` was a deprecated alias for the builtin `bool`. To avoid this error in existing code, use `bool` by itself. Doing this will not modify any behavior and is safe. If you specifically wanted the numpy scalar type, use `np.bool_` here.\nThe aliases was originally deprecated in NumPy 1.20; for more details and guidance see the original release note at:\n    https://numpy.org/devdocs/release/1.20.0-notes.html#deprecations",
          "output_type": "error",
          "traceback": [
            "\u001b[1;31m---------------------------------------------------------------------------\u001b[0m",
            "\u001b[1;31mAttributeError\u001b[0m                            Traceback (most recent call last)",
            "Cell \u001b[1;32mIn[3], line 1\u001b[0m\n\u001b[1;32m----> 1\u001b[0m \u001b[39mimport\u001b[39;00m \u001b[39mpymc3\u001b[39;00m \u001b[39mas\u001b[39;00m \u001b[39mpm\u001b[39;00m\n\u001b[0;32m      2\u001b[0m \u001b[39mimport\u001b[39;00m \u001b[39mnumpy\u001b[39;00m \u001b[39mas\u001b[39;00m \u001b[39mnp\u001b[39;00m\n\u001b[0;32m      3\u001b[0m \u001b[39mimport\u001b[39;00m \u001b[39mpandas\u001b[39;00m \u001b[39mas\u001b[39;00m \u001b[39mpd\u001b[39;00m\n",
            "File \u001b[1;32m~\\AppData\\Roaming\\Python\\Python311\\site-packages\\pymc3\\__init__.py:23\u001b[0m\n\u001b[0;32m     20\u001b[0m \u001b[39mimport\u001b[39;00m \u001b[39mplatform\u001b[39;00m\n\u001b[0;32m     22\u001b[0m \u001b[39mimport\u001b[39;00m \u001b[39msemver\u001b[39;00m\n\u001b[1;32m---> 23\u001b[0m \u001b[39mimport\u001b[39;00m \u001b[39mtheano\u001b[39;00m\n\u001b[0;32m     25\u001b[0m _log \u001b[39m=\u001b[39m logging\u001b[39m.\u001b[39mgetLogger(\u001b[39m\"\u001b[39m\u001b[39mpymc3\u001b[39m\u001b[39m\"\u001b[39m)\n\u001b[0;32m     27\u001b[0m \u001b[39mif\u001b[39;00m \u001b[39mnot\u001b[39;00m logging\u001b[39m.\u001b[39mroot\u001b[39m.\u001b[39mhandlers:\n",
            "File \u001b[1;32m~\\AppData\\Roaming\\Python\\Python311\\site-packages\\theano\\__init__.py:83\u001b[0m\n\u001b[0;32m     75\u001b[0m \u001b[39m# This is the api version for ops that generate C code.  External ops\u001b[39;00m\n\u001b[0;32m     76\u001b[0m \u001b[39m# might need manual changes if this number goes up.  An undefined\u001b[39;00m\n\u001b[0;32m     77\u001b[0m \u001b[39m# __api_version__ can be understood to mean api version 0.\u001b[39;00m\n\u001b[0;32m     78\u001b[0m \u001b[39m#\u001b[39;00m\n\u001b[0;32m     79\u001b[0m \u001b[39m# This number is not tied to the release version and should change\u001b[39;00m\n\u001b[0;32m     80\u001b[0m \u001b[39m# very rarely.\u001b[39;00m\n\u001b[0;32m     81\u001b[0m __api_version__ \u001b[39m=\u001b[39m \u001b[39m1\u001b[39m\n\u001b[1;32m---> 83\u001b[0m \u001b[39mfrom\u001b[39;00m \u001b[39mtheano\u001b[39;00m \u001b[39mimport\u001b[39;00m scalar, tensor\n\u001b[0;32m     84\u001b[0m \u001b[39mfrom\u001b[39;00m \u001b[39mtheano\u001b[39;00m\u001b[39m.\u001b[39;00m\u001b[39mcompile\u001b[39;00m \u001b[39mimport\u001b[39;00m (\n\u001b[0;32m     85\u001b[0m     In,\n\u001b[0;32m     86\u001b[0m     Mode,\n\u001b[1;32m   (...)\u001b[0m\n\u001b[0;32m     93\u001b[0m     shared,\n\u001b[0;32m     94\u001b[0m )\n\u001b[0;32m     95\u001b[0m \u001b[39mfrom\u001b[39;00m \u001b[39mtheano\u001b[39;00m\u001b[39m.\u001b[39;00m\u001b[39mcompile\u001b[39;00m\u001b[39m.\u001b[39;00m\u001b[39mfunction\u001b[39;00m \u001b[39mimport\u001b[39;00m function, function_dump\n",
            "File \u001b[1;32m~\\AppData\\Roaming\\Python\\Python311\\site-packages\\theano\\scalar\\__init__.py:1\u001b[0m\n\u001b[1;32m----> 1\u001b[0m \u001b[39mfrom\u001b[39;00m \u001b[39m.\u001b[39;00m\u001b[39mbasic\u001b[39;00m \u001b[39mimport\u001b[39;00m \u001b[39m*\u001b[39m\n\u001b[0;32m      2\u001b[0m \u001b[39mfrom\u001b[39;00m \u001b[39m.\u001b[39;00m\u001b[39mbasic_scipy\u001b[39;00m \u001b[39mimport\u001b[39;00m \u001b[39m*\u001b[39m\n",
            "File \u001b[1;32m~\\AppData\\Roaming\\Python\\Python311\\site-packages\\theano\\scalar\\basic.py:2460\u001b[0m\n\u001b[0;32m   2456\u001b[0m         \u001b[39melse\u001b[39;00m:\n\u001b[0;32m   2457\u001b[0m             \u001b[39mreturn\u001b[39;00m s\n\u001b[1;32m-> 2460\u001b[0m convert_to_bool \u001b[39m=\u001b[39m Cast(\u001b[39mbool\u001b[39;49m, name\u001b[39m=\u001b[39;49m\u001b[39m\"\u001b[39;49m\u001b[39mconvert_to_bool\u001b[39;49m\u001b[39m\"\u001b[39;49m)\n\u001b[0;32m   2461\u001b[0m convert_to_int8 \u001b[39m=\u001b[39m Cast(int8, name\u001b[39m=\u001b[39m\u001b[39m\"\u001b[39m\u001b[39mconvert_to_int8\u001b[39m\u001b[39m\"\u001b[39m)\n\u001b[0;32m   2462\u001b[0m convert_to_int16 \u001b[39m=\u001b[39m Cast(int16, name\u001b[39m=\u001b[39m\u001b[39m\"\u001b[39m\u001b[39mconvert_to_int16\u001b[39m\u001b[39m\"\u001b[39m)\n",
            "File \u001b[1;32m~\\AppData\\Roaming\\Python\\Python311\\site-packages\\theano\\scalar\\basic.py:2412\u001b[0m, in \u001b[0;36mCast.__init__\u001b[1;34m(self, o_type, name)\u001b[0m\n\u001b[0;32m   2410\u001b[0m \u001b[39msuper\u001b[39m()\u001b[39m.\u001b[39m\u001b[39m__init__\u001b[39m(specific_out(o_type), name\u001b[39m=\u001b[39mname)\n\u001b[0;32m   2411\u001b[0m \u001b[39mself\u001b[39m\u001b[39m.\u001b[39mo_type \u001b[39m=\u001b[39m o_type\n\u001b[1;32m-> 2412\u001b[0m \u001b[39mself\u001b[39m\u001b[39m.\u001b[39mctor \u001b[39m=\u001b[39m \u001b[39mgetattr\u001b[39;49m(np, o_type\u001b[39m.\u001b[39;49mdtype)\n",
            "File \u001b[1;32m~\\AppData\\Roaming\\Python\\Python311\\site-packages\\numpy\\__init__.py:305\u001b[0m, in \u001b[0;36m__getattr__\u001b[1;34m(attr)\u001b[0m\n\u001b[0;32m    300\u001b[0m     warnings\u001b[39m.\u001b[39mwarn(\n\u001b[0;32m    301\u001b[0m         \u001b[39mf\u001b[39m\u001b[39m\"\u001b[39m\u001b[39mIn the future `np.\u001b[39m\u001b[39m{\u001b[39;00mattr\u001b[39m}\u001b[39;00m\u001b[39m` will be defined as the \u001b[39m\u001b[39m\"\u001b[39m\n\u001b[0;32m    302\u001b[0m         \u001b[39m\"\u001b[39m\u001b[39mcorresponding NumPy scalar.\u001b[39m\u001b[39m\"\u001b[39m, \u001b[39mFutureWarning\u001b[39;00m, stacklevel\u001b[39m=\u001b[39m\u001b[39m2\u001b[39m)\n\u001b[0;32m    304\u001b[0m \u001b[39mif\u001b[39;00m attr \u001b[39min\u001b[39;00m __former_attrs__:\n\u001b[1;32m--> 305\u001b[0m     \u001b[39mraise\u001b[39;00m \u001b[39mAttributeError\u001b[39;00m(__former_attrs__[attr])\n\u001b[0;32m    307\u001b[0m \u001b[39m# Importing Tester requires importing all of UnitTest which is not a\u001b[39;00m\n\u001b[0;32m    308\u001b[0m \u001b[39m# cheap import Since it is mainly used in test suits, we lazy import it\u001b[39;00m\n\u001b[0;32m    309\u001b[0m \u001b[39m# here to save on the order of 10 ms of import time for most users\u001b[39;00m\n\u001b[0;32m    310\u001b[0m \u001b[39m#\u001b[39;00m\n\u001b[0;32m    311\u001b[0m \u001b[39m# The previous way Tester was imported also had a side effect of adding\u001b[39;00m\n\u001b[0;32m    312\u001b[0m \u001b[39m# the full `numpy.testing` namespace\u001b[39;00m\n\u001b[0;32m    313\u001b[0m \u001b[39mif\u001b[39;00m attr \u001b[39m==\u001b[39m \u001b[39m'\u001b[39m\u001b[39mtesting\u001b[39m\u001b[39m'\u001b[39m:\n",
            "\u001b[1;31mAttributeError\u001b[0m: module 'numpy' has no attribute 'bool'.\n`np.bool` was a deprecated alias for the builtin `bool`. To avoid this error in existing code, use `bool` by itself. Doing this will not modify any behavior and is safe. If you specifically wanted the numpy scalar type, use `np.bool_` here.\nThe aliases was originally deprecated in NumPy 1.20; for more details and guidance see the original release note at:\n    https://numpy.org/devdocs/release/1.20.0-notes.html#deprecations"
          ]
        }
      ],
      "source": [
        "import pymc3 as pm\n",
        "import numpy as np\n",
        "import pandas as pd\n",
        "from sklearn.model_selection import train_test_split"
      ]
    },
    {
      "cell_type": "code",
      "execution_count": 4,
      "metadata": {
        "id": "x_AGCbjkGykf"
      },
      "outputs": [],
      "source": [
        "X = pd.read_csv('XValuesDataSet.csv')\n",
        "Y = pd.read_csv('YValuesDataSet.csv')"
      ]
    },
    {
      "cell_type": "code",
      "execution_count": 5,
      "metadata": {
        "id": "z1TiQtOKHsRK"
      },
      "outputs": [],
      "source": [
        "X_train, X_test, Y_train, Y_test = train_test_split(X, Y, test_size=.5)"
      ]
    },
    {
      "cell_type": "code",
      "execution_count": 6,
      "metadata": {
        "id": "jPgF4CwbI46i"
      },
      "outputs": [],
      "source": [
        "# Normalizar variables de entrada\n",
        "X_train = (X_train - X_train.mean()) / X_train.std()"
      ]
    },
    {
      "cell_type": "code",
      "execution_count": 7,
      "metadata": {
        "id": "CqOtQXCUHsoo"
      },
      "outputs": [],
      "source": [
        "media = X_train.mean()\n",
        "desviacion = X_train.std()"
      ]
    },
    {
      "cell_type": "code",
      "execution_count": 8,
      "metadata": {
        "colab": {
          "base_uri": "https://localhost:8080/"
        },
        "id": "b8aiOKxjMUXb",
        "outputId": "eab70052-ba29-4865-ec90-82387d1b8ae8"
      },
      "outputs": [
        {
          "name": "stdout",
          "output_type": "stream",
          "text": [
            "Number of CPU cores: 2\n"
          ]
        }
      ],
      "source": [
        "import multiprocessing\n",
        "print(f\"Number of CPU cores: {multiprocessing.cpu_count()}\")"
      ]
    },
    {
      "cell_type": "code",
      "execution_count": 9,
      "metadata": {
        "id": "YmmnTC3IMszC"
      },
      "outputs": [],
      "source": [
        "os.environ['MKL_NUM_THREADS'] = '6'\n",
        "os.environ['OPENBLAS_NUM_THREADS'] = '6'\n",
        "os.environ['OMP_NUM_THREADS'] = '6'"
      ]
    },
    {
      "cell_type": "code",
      "execution_count": 10,
      "metadata": {
        "id": "-C36tu9NM2uk"
      },
      "outputs": [],
      "source": [
        "import theano\n",
        "theano.config.gcc.cxxflags = \"-Wno-c++11-narrowing\"\n",
        "theano.config.mode = 'FAST_RUN'"
      ]
    },
    {
      "cell_type": "code",
      "execution_count": 11,
      "metadata": {
        "colab": {
          "base_uri": "https://localhost:8080/",
          "height": 196
        },
        "id": "CIWKNIJNHuH5",
        "outputId": "51ffc42a-530b-4839-93e3-6e41a7a39982"
      },
      "outputs": [
        {
          "name": "stderr",
          "output_type": "stream",
          "text": [
            "/usr/local/lib/python3.9/dist-packages/deprecat/classic.py:215: FutureWarning: In v4.0, pm.sample will return an `arviz.InferenceData` object instead of a `MultiTrace` by default. You can pass return_inferencedata=True or return_inferencedata=False to be safe and silence this warning.\n",
            "  return wrapped_(*args_, **kwargs_)\n",
            "WARNING:pymc3:Only 20 samples in chain.\n"
          ]
        },
        {
          "data": {
            "text/html": [
              "\n",
              "<style>\n",
              "    /* Turns off some styling */\n",
              "    progress {\n",
              "        /* gets rid of default border in Firefox and Opera. */\n",
              "        border: none;\n",
              "        /* Needs to be in here for Safari polyfill so background images work as expected. */\n",
              "        background-size: auto;\n",
              "    }\n",
              "    progress:not([value]), progress:not([value])::-webkit-progress-bar {\n",
              "        background: repeating-linear-gradient(45deg, #7e7e7e, #7e7e7e 10px, #5c5c5c 10px, #5c5c5c 20px);\n",
              "    }\n",
              "    .progress-bar-interrupted, .progress-bar-interrupted::-webkit-progress-bar {\n",
              "        background: #F44336;\n",
              "    }\n",
              "</style>\n"
            ],
            "text/plain": [
              "<IPython.core.display.HTML object>"
            ]
          },
          "metadata": {},
          "output_type": "display_data"
        },
        {
          "data": {
            "text/html": [
              "\n",
              "    <div>\n",
              "      <progress value='80' class='' max='80' style='width:300px; height:20px; vertical-align: middle;'></progress>\n",
              "      100.00% [80/80 00:46&lt;00:00 Sampling 2 chains, 1 divergences]\n",
              "    </div>\n",
              "    "
            ],
            "text/plain": [
              "<IPython.core.display.HTML object>"
            ]
          },
          "metadata": {},
          "output_type": "display_data"
        },
        {
          "name": "stderr",
          "output_type": "stream",
          "text": [
            "/usr/local/lib/python3.9/dist-packages/pymc3/sampling.py:659: UserWarning: The number of samples is too small to check convergence reliably.\n",
            "  warnings.warn(\"The number of samples is too small to check convergence reliably.\")\n",
            "WARNING:pymc3:The acceptance probability does not match the target. It is 1.0, but should be close to 0.8. Try to increase the number of tuning steps.\n",
            "ERROR:pymc3:There was 1 divergence after tuning. Increase `target_accept` or reparameterize.\n",
            "WARNING:pymc3:The acceptance probability does not match the target. It is 1.0, but should be close to 0.8. Try to increase the number of tuning steps.\n"
          ]
        }
      ],
      "source": [
        "with pm.Model() as model:\n",
        "    # crea variables aleatorias normales para cada columna\n",
        "    betas = pm.Normal('betas', mu=media, sd=desviacion, shape=X_train.shape[1])\n",
        "    \n",
        "    # Probabilidad de éxito\n",
        "    p = pm.math.sigmoid(pm.math.dot(X_train, betas))\n",
        "    # Variable objetivo\n",
        "    Y_train = pm.Bernoulli('y', p=p, observed=Y)\n",
        "    \n",
        "    # Inferencia de parámetros\n",
        "    trace = pm.sample(20, tune=20, cores=2)"
      ]
    },
    {
      "cell_type": "code",
      "execution_count": 42,
      "metadata": {
        "colab": {
          "base_uri": "https://localhost:8080/"
        },
        "id": "z4bu7AJuJrrt",
        "outputId": "40750f2d-6e56-4c0b-ee7c-7e8e4a5d5458"
      },
      "outputs": [
        {
          "name": "stdout",
          "output_type": "stream",
          "text": [
            "Accuracy: 0.5198883461270063\n"
          ]
        }
      ],
      "source": [
        "# Crear lista vacía para guardar predicciones\n",
        "predictions = []\n",
        "\n",
        "# Loop sobre los valores de X_test y Y_test\n",
        "for i in range(len(X_test)):\n",
        "    # Obtener valor de X_test e Y_test para esta iteración\n",
        "    x = X_test.iloc[[i]]\n",
        "    y = Y_test.iloc[[i]]\n",
        "\n",
        "    # Calcular probabilidad de éxito con el modelo\n",
        "    with model:\n",
        "        p = pm.math.sigmoid(pm.math.dot(x, betas))\n",
        "\n",
        "    result_str = str(p)\n",
        "    result_char = result_str[-1]\n",
        "    result_float = float(result_char)\n",
        "\n",
        "    # Obtener predicción como 1 o 0 según la probabilidad\n",
        "    prediction = 1 if result_float > 0.5 else 0\n",
        "\n",
        "    # Añadir predicción a la lista\n",
        "    predictions.append(prediction)\n",
        "\n",
        "# Comparar predicciones con valores reales\n",
        "correct = 0\n",
        "for i in range(len(Y_test)):\n",
        "    if predictions[i] == Y_test.iloc[i, 0]:\n",
        "        correct += 1\n",
        "\n",
        "# Calcular accuracy\n",
        "accuracy = correct / len(Y_test)\n",
        "print(f\"Accuracy: {accuracy}\")"
      ]
    }
  ],
  "metadata": {
    "colab": {
      "provenance": []
    },
    "kernelspec": {
      "display_name": "Python 3",
      "name": "python3"
    },
    "language_info": {
      "codemirror_mode": {
        "name": "ipython",
        "version": 3
      },
      "file_extension": ".py",
      "mimetype": "text/x-python",
      "name": "python",
      "nbconvert_exporter": "python",
      "pygments_lexer": "ipython3",
      "version": "3.11.2"
    }
  },
  "nbformat": 4,
  "nbformat_minor": 0
}
